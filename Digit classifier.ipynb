{
 "cells": [
  {
   "cell_type": "code",
   "execution_count": 46,
   "metadata": {},
   "outputs": [
    {
     "name": "stdout",
     "output_type": "stream",
     "text": [
      "1\n",
      "[1 1 1 1 1]\n"
     ]
    }
   ],
   "source": [
    "import os,numpy as np,pandas as pd,math,matplotlib.pyplot as plt,random \n",
    "\n",
    "#=================================FUNCTIONS==========================================\n",
    "m = 250\n",
    "def sigmoid(z):\n",
    "    return 1 / (1 + math.exp(-z))\n",
    "\n",
    "\n",
    "vSigmoid = np.vectorize(sigmoid) # functions take a vector and apply sigmoid on each element\n",
    "\n",
    "\n",
    "def error(Y,A):\n",
    "        logA = np.log10(A)\n",
    "        A_1 = 1 - A  # (1-a)\n",
    "        logA_1 = np.log10(A_1)\n",
    "        Y_1 = 1 - Y # (1-y)\n",
    "        \n",
    "        e =-(Y*logA + (Y_1)*(logA_1))\n",
    "        return np.sum(e)/m\n",
    "    \n",
    "def softmax(x):\n",
    "    return np.exp(x) / np.sum(np.exp(x), axis=0)\n",
    "\n",
    "vSoftmax = np.vectorize(softmax)\n",
    "\n",
    "def predict(prob):\n",
    "\n",
    "   \n",
    "    mini = prob.index(min(prob))\n",
    "    print(mini)\n",
    "    prob = [mini] * len(prob)\n",
    "    prob = np.array(prob)\n",
    "    print(prob)\n",
    "    \n",
    "    \n",
    "vPredict = np.vectorize(predict)\n"
   ]
  },
  {
   "cell_type": "code",
   "execution_count": 3,
   "metadata": {},
   "outputs": [
    {
     "name": "stderr",
     "output_type": "stream",
     "text": [
      "/home/hamza/anaconda2/lib/python2.7/site-packages/pandas/io/parsers.py:709: UserWarning: Duplicate names specified. This will raise an error in the future.\n",
      "  return _read(filepath_or_buffer, kwds)\n"
     ]
    }
   ],
   "source": [
    "dir = \".\"\n",
    "file = \"digits.csv\"\n",
    "\n",
    "filename = os.path.join(dir,file)\n",
    "\n",
    "header = [0]*  10001\n",
    "\n",
    "df = pd.read_csv(filename,names = header) #b = 0.21 (blank) x = 0.22 (player x) o = 0.23 (player o)\n",
    "df = df.sample(frac=1).reset_index(drop=True) #shuffling rows\n",
    "   \n",
    "\n",
    "np.set_printoptions(threshold=np.nan)    \n",
    "np_df = df.as_matrix()\n",
    "\n",
    "labels = np_df[:,10000]\n",
    "labels = np.split(labels,2)\n",
    "\n",
    "trainingLabels = labels[0]\n",
    "testingLabels = labels[1]\n",
    "# print(trainingLabels.shape)\n",
    "# print(testingLabels.shape)\n",
    "\n",
    "np_df = np.delete(np_df, 10000, 1)\n",
    "\n",
    "sp = np.split(np_df,2)\n",
    "trainingSet = sp[0].T\n",
    "testingSet = sp[1].T\n",
    "trainingSet = np.array(trainingSet)\n",
    "testingSet = np.array(testingSet)\n",
    "\n",
    "a= 0.0001\n",
    "\n",
    "#print(trainingSet.shape)\n",
    "# print(trainingSet.shape)\n",
    "# print(testingSet.shape)\n",
    "\n",
    "# img = np_df[0,:]\n",
    "# img = img.reshape((100,100))\n",
    "# print(img)\n"
   ]
  },
  {
   "cell_type": "code",
   "execution_count": 20,
   "metadata": {},
   "outputs": [
    {
     "name": "stdout",
     "output_type": "stream",
     "text": [
      "(250,)\n"
     ]
    }
   ],
   "source": [
    "print(trainingLabels.shape)"
   ]
  },
  {
   "cell_type": "markdown",
   "metadata": {},
   "source": [
    "# FORWARD PASS"
   ]
  },
  {
   "cell_type": "markdown",
   "metadata": {},
   "source": [
    "# Layer 0 (Features)"
   ]
  },
  {
   "cell_type": "code",
   "execution_count": 4,
   "metadata": {},
   "outputs": [],
   "source": [
    "\n",
    "\n",
    "#=========================OUTPUT OF LAYER 0 ============================\n",
    "#Layer 0 contains our features\n",
    "\n",
    "A0 = trainingSet\n",
    "\n",
    "\n",
    "\n"
   ]
  },
  {
   "cell_type": "markdown",
   "metadata": {},
   "source": [
    "# Layer 1"
   ]
  },
  {
   "cell_type": "code",
   "execution_count": 7,
   "metadata": {},
   "outputs": [],
   "source": [
    "\n",
    "#Number of Nodes 10000\n",
    "#Input of layer 1 is A0 (Output of layer 0)\n",
    "\n",
    "W1 = np.random.rand(10000,10000)\n",
    "b1 = np.random.rand(10000,1)\n",
    "\n",
    "\n",
    "Z1 = np.dot(W1,A0) #Multiping thetas of all nodes of layer 1 with all data instances\n",
    "\n",
    "Z1 = np.add(Z1,b1) #Broadcasting bais of all nodes of layer 1 \n",
    "\n",
    "A1 = np.apply_along_axis(vSigmoid, 0, Z1)  # applying sigmoid on each coloumn \n"
   ]
  },
  {
   "cell_type": "code",
   "execution_count": 8,
   "metadata": {},
   "outputs": [
    {
     "name": "stdout",
     "output_type": "stream",
     "text": [
      "(10000, 250)\n"
     ]
    }
   ],
   "source": [
    "print(A1.shape)"
   ]
  },
  {
   "cell_type": "markdown",
   "metadata": {},
   "source": [
    "# Layer 2"
   ]
  },
  {
   "cell_type": "code",
   "execution_count": 9,
   "metadata": {},
   "outputs": [],
   "source": [
    "# Number of Nodes 10\n",
    "#Input of layer 2 is A1 (Output of layer 1)\n",
    "\n",
    "W2 = np.random.rand(10,10000)\n",
    "b2 = np.random.rand(10,1)\n",
    "\n",
    "Z2 = np.dot(W2,A1) #Multiping thetas of all nodes of layer 2 with all data instances\n",
    "Z2 = np.add(Z2,b2) #Broadcasting bais of all nodes of layer 2 \n",
    "\n",
    "A2 = np.apply_along_axis(vSigmoid, 0, Z2)  # applying sigmoid on each coloumn \n",
    "\n"
   ]
  },
  {
   "cell_type": "code",
   "execution_count": 54,
   "metadata": {},
   "outputs": [
    {
     "name": "stdout",
     "output_type": "stream",
     "text": [
      "nan\n"
     ]
    },
    {
     "name": "stderr",
     "output_type": "stream",
     "text": [
      "/home/hamza/anaconda2/lib/python2.7/site-packages/ipykernel_launcher.py:15: RuntimeWarning: divide by zero encountered in log10\n",
      "  from ipykernel import kernelapp as app\n",
      "/home/hamza/anaconda2/lib/python2.7/site-packages/ipykernel_launcher.py:18: RuntimeWarning: invalid value encountered in multiply\n"
     ]
    }
   ],
   "source": [
    "\n",
    "softmaxResult = np.apply_along_axis(vSoftmax,1,A2)\n",
    "#print(softmaxResult.shape)\n",
    "# prediction = np.apply_along_axis(vPredict,1,softmaxResult)\n",
    "\n",
    "# print(softmaxResult.shape)\n",
    "print(error(trainingLabels,softmaxResult))"
   ]
  },
  {
   "cell_type": "markdown",
   "metadata": {},
   "source": [
    "# BACK PROPAGATION"
   ]
  },
  {
   "cell_type": "markdown",
   "metadata": {},
   "source": [
    "# Layer 2"
   ]
  },
  {
   "cell_type": "code",
   "execution_count": 48,
   "metadata": {},
   "outputs": [],
   "source": [
    "dz2 = A2 - trainingLabels\n",
    "\n",
    "dw2 = np.dot(dz2,A1.T)/m\n",
    "\n",
    "db2 = np.sum(dz2,axis = 1, keepdims = True) / m\n",
    "\n"
   ]
  },
  {
   "cell_type": "markdown",
   "metadata": {},
   "source": [
    "# Layer 1"
   ]
  },
  {
   "cell_type": "code",
   "execution_count": 49,
   "metadata": {},
   "outputs": [],
   "source": [
    "dg1 = ((np.apply_along_axis(vSigmoid, 0, Z1))*(1 - np.apply_along_axis(vSigmoid, 0, Z1)))\n",
    "dz1 = np.dot(W2.T,dz2) * dg1\n",
    "\n",
    "dw1 = np.dot(dz1,A0.T)/m\n",
    "db1 = np.sum(dz1,axis = 1,keepdims = True)/m\n"
   ]
  },
  {
   "cell_type": "markdown",
   "metadata": {},
   "source": [
    "# UPDATING THETAS"
   ]
  },
  {
   "cell_type": "markdown",
   "metadata": {},
   "source": [
    "# Layer 1"
   ]
  },
  {
   "cell_type": "code",
   "execution_count": 50,
   "metadata": {},
   "outputs": [],
   "source": [
    "W1 = W1 - (a * dw1)\n",
    "b1 = b1 - (a * db1)\n"
   ]
  },
  {
   "cell_type": "markdown",
   "metadata": {},
   "source": [
    "# Layer 2"
   ]
  },
  {
   "cell_type": "code",
   "execution_count": 10,
   "metadata": {
    "collapsed": true
   },
   "outputs": [],
   "source": [
    "W2 = W2 - (a * dw2)\n",
    "b2 = b2 - (a * db2)"
   ]
  },
  {
   "cell_type": "markdown",
   "metadata": {},
   "source": [
    "# Main Function"
   ]
  },
  {
   "cell_type": "code",
   "execution_count": 1,
   "metadata": {},
   "outputs": [],
   "source": [
    "epoc = 0\n",
    "epocs = []\n",
    "gradient = 100\n",
    "maxGradient1 = 0\n",
    "maxGradient2 = 0\n",
    "errors = []\n",
    "\n",
    "while gradient > 0.01: \n",
    "    #=========================OUTPUT OF LAYER 0 ============================\n",
    "    #Layer 0 contains our features\n",
    "\n",
    "    A0 = X\n",
    "\n",
    "\n",
    "    #Number of Nodes 10000\n",
    "    #Input of layer 1 is A0 (Output of layer 0)\n",
    "\n",
    "    W1 = np.random.rand(10000,10000)\n",
    "    b1 = np.random.rand(10000,1)\n",
    "\n",
    "\n",
    "    Z1 = np.dot(W1,A0) #Multiping thetas of all nodes of layer 1 with all data instances\n",
    "    print(Z1.shape)\n",
    "    Z1 = np.add(Z1,b1) #Broadcasting bais of all nodes of layer 1 \n",
    "\n",
    "    A1 = np.apply_along_axis(vSigmoid, 0, Z1)  # applying sigmoid on each coloumn  \n",
    "\n",
    "    # Number of Nodes 1\n",
    "    #Input of layer 2 is A1 (Output of layer 1)\n",
    "\n",
    "    # Number of Nodes 10\n",
    "    #Input of layer 2 is A1 (Output of layer 1)\n",
    "\n",
    "    W2 = np.random.rand(10,10000)\n",
    "    b2 = np.random.rand(10,1)\n",
    "\n",
    "    Z2 = np.dot(W2,A1) #Multiping thetas of all nodes of layer 2 with all data instances\n",
    "    Z2 = np.add(Z2,b2) #Broadcasting bais of all nodes of layer 2 \n",
    "    print(Z2.shape)\n",
    "    A2 = np.apply_along_axis(vSigmoid, 0, Z2)  # applying sigmoid on each coloumn \n",
    "\n",
    "    softmaxResult = np.apply_along_axis(vSoftmax,1,A2)\n",
    "    \n",
    "    print(error(trainingLabels,softmaxResult))\n",
    "    \n",
    "    #BackPropagation\n",
    "    #Layer 2\n",
    "    dz2 = A2 - trainingLabels\n",
    "\n",
    "    dw2 = np.dot(dz2,A1.T)/m\n",
    "\n",
    "    db2 = np.sum(dz2,axis = 1, keepdims = True) / m\n",
    "    \n",
    "    #Layer 1\n",
    "    dg1 = ((np.apply_along_axis(vSigmoid, 0, Z1))*(1 - np.apply_along_axis(vSigmoid, 0, Z1)))\n",
    "    dz1 = np.dot(W2.T,dz2) * dg1\n",
    "\n",
    "    dw1 = np.dot(dz1,A0.T)/m\n",
    "    db1 = np.sum(dz1,axis = 1,keepdims = True)/m\n",
    "\n",
    "    #UPDATING THETAS\n",
    "    #layer 1\n",
    "    W1 = W1 - (a * dw1)\n",
    "    b1 = b1 - (a * db1)\n",
    "    \n",
    "    #layer 2\n",
    "    W2 = W2 - (a * dw2)\n",
    "    b2 = b2 - (a * db2)\n",
    "\n",
    "    #finding max gradient in both layers\n",
    "    \n",
    "    maxGradient1 = np.amax(dw1)\n",
    "    maxGradient2 = np.amax(dw2)\n",
    "    gradient = min([maxGradient1,maxGradient2])\n",
    "    epoc = epoc + 1\n",
    "    epocs.append(epoc)\n",
    "    \n",
    "print(\"ERRORS\")\n",
    "print(errors)    \n",
    "\n",
    "#RESULTS OF TRAINING DATA\n",
    "print(\"FINAL WEIGHTS LAYER 1\")\n",
    "print(W1)\n",
    "\n",
    "print(\"FINAL BIAS LAYER 1\")\n",
    "print(b1)\n",
    "\n",
    "print(\"FINAL WEIGHTS LAYER 2\")\n",
    "print(W2)\n",
    "\n",
    "print(\"FINAL BIAS LAYER 2\")\n",
    "print(b2)\n",
    "    \n"
   ]
  }
 ],
 "metadata": {
  "kernelspec": {
   "display_name": "Python 2",
   "language": "python",
   "name": "python2"
  },
  "language_info": {
   "codemirror_mode": {
    "name": "ipython",
    "version": 2
   },
   "file_extension": ".py",
   "mimetype": "text/x-python",
   "name": "python",
   "nbconvert_exporter": "python",
   "pygments_lexer": "ipython2",
   "version": "2.7.14"
  }
 },
 "nbformat": 4,
 "nbformat_minor": 2
}
